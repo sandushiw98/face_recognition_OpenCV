{
  "nbformat": 4,
  "nbformat_minor": 0,
  "metadata": {
    "colab": {
      "provenance": [],
      "authorship_tag": "ABX9TyObpG50NHQLWPiotOkFVsgB",
      "include_colab_link": true
    },
    "kernelspec": {
      "name": "python3",
      "display_name": "Python 3"
    },
    "language_info": {
      "name": "python"
    }
  },
  "cells": [
    {
      "cell_type": "markdown",
      "metadata": {
        "id": "view-in-github",
        "colab_type": "text"
      },
      "source": [
        "<a href=\"https://colab.research.google.com/github/sandushiw98/face_recognition_OpenCV/blob/main/Face_Recognition.ipynb\" target=\"_parent\"><img src=\"https://colab.research.google.com/assets/colab-badge.svg\" alt=\"Open In Colab\"/></a>"
      ]
    },
    {
      "cell_type": "markdown",
      "source": [
        "**Face Detetection with Python using OpenCV**"
      ],
      "metadata": {
        "id": "3EekLo-YqUgh"
      }
    },
    {
      "cell_type": "markdown",
      "source": [
        "Import OpenCV library\n"
      ],
      "metadata": {
        "id": "Zyzn-AJSq1mq"
      }
    },
    {
      "cell_type": "code",
      "execution_count": null,
      "metadata": {
        "id": "Bgsc2lh3qMvt"
      },
      "outputs": [],
      "source": [
        "import cv2"
      ]
    },
    {
      "cell_type": "markdown",
      "source": [
        "Using the pre-trained classifier from OpenCV"
      ],
      "metadata": {
        "id": "CsUaSFspw9uo"
      }
    },
    {
      "cell_type": "code",
      "source": [
        "face_cascade=cv2.CascadeClassifier('haarcascade_frontalface_alt.xml') #load the cascade"
      ],
      "metadata": {
        "id": "V14T0jUlwi3P"
      },
      "execution_count": null,
      "outputs": []
    },
    {
      "cell_type": "markdown",
      "source": [
        "Upload the image"
      ],
      "metadata": {
        "id": "F-eAhSqPxHZL"
      }
    },
    {
      "cell_type": "code",
      "source": [
        "img=cv2.imread('test4.jpg') #Read the input image"
      ],
      "metadata": {
        "id": "k_CEw557xF-R"
      },
      "execution_count": null,
      "outputs": []
    },
    {
      "cell_type": "markdown",
      "source": [
        "Perform Face Detection\n"
      ],
      "metadata": {
        "id": "7s9hQBKhzTW4"
      }
    },
    {
      "cell_type": "code",
      "source": [
        "faces = face_cascade.detectMultiScale(img,1.1,4) #Detect faces"
      ],
      "metadata": {
        "id": "TMQuBAxZzXup"
      },
      "execution_count": null,
      "outputs": []
    },
    {
      "cell_type": "markdown",
      "source": [
        "Drawing rectangle around the faces"
      ],
      "metadata": {
        "id": "sB2GxZ6gzpUt"
      }
    },
    {
      "cell_type": "code",
      "source": [
        "#Draw the rectangle around the faces\n",
        "for (x,y,w,h) in faces:\n",
        "  cv2.rectangle(img,(x,y),(x+w, y+h),(255,0,0),2)"
      ],
      "metadata": {
        "id": "b4qnjEjzzvMq"
      },
      "execution_count": null,
      "outputs": []
    },
    {
      "cell_type": "markdown",
      "source": [
        "Exporting the image file"
      ],
      "metadata": {
        "id": "o9T7VUUY0at9"
      }
    },
    {
      "cell_type": "code",
      "source": [
        "#Export the result\n",
        "cv2.imwrite('face_detected.png',img)\n",
        "print('photo successfully exported')"
      ],
      "metadata": {
        "colab": {
          "base_uri": "https://localhost:8080/"
        },
        "id": "94hbiBaX0d3s",
        "outputId": "0d51d366-8a65-4d94-b441-51c4f9186ef8"
      },
      "execution_count": null,
      "outputs": [
        {
          "output_type": "stream",
          "name": "stdout",
          "text": [
            "photo successfully exported\n"
          ]
        }
      ]
    }
  ]
}